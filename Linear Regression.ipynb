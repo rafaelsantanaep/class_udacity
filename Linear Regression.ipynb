{
 "cells": [
  {
   "cell_type": "markdown",
   "metadata": {},
   "source": [
    "## Predicting the weight of person using Linear Regression"
   ]
  },
  {
   "cell_type": "markdown",
   "metadata": {},
   "source": [
    "#### Importing the packages"
   ]
  },
  {
   "cell_type": "code",
   "execution_count": 2,
   "metadata": {},
   "outputs": [],
   "source": [
    "import pandas as pd\n",
    "import numpy as np\n",
    "import matplotlib.pyplot as plt\n",
    "import seaborn as sns\n",
    "from Questions import Questions\n",
    "questions = Questions()"
   ]
  },
  {
   "cell_type": "code",
   "execution_count": 3,
   "metadata": {},
   "outputs": [
    {
     "name": "stdout",
     "output_type": "stream",
     "text": [
      "\n",
      "        Why the performance of the model is almost perfect in the training set,\n",
      "        but the model performance is worst than using five neighbors in the\n",
      "        test set?\n",
      "\n",
      "        Press 1 for: The model has memorized the training set, but does not\n",
      "        generalize well on the test set (Overfitting)\n",
      "\n",
      "        Press 2 for: The model is not able to capture the underlying patterns\n",
      "        on the data (Underfitting)\n",
      "\n",
      "        This question is not graded!!\n",
      "        \n",
      "Press 1 or 21\n",
      "Your answer is correct!\n",
      "\n",
      "        The correct answer is 1!\n",
      "        What happened is one of the most common symptoms of overfitting.\n",
      "\n",
      "        The model that you have created is very complex and this model\n",
      "        doesn't generalize well on unseen data.\n",
      "\n",
      "        \n"
     ]
    }
   ],
   "source": [
    "questions.question_six()"
   ]
  },
  {
   "cell_type": "code",
   "execution_count": 87,
   "metadata": {},
   "outputs": [],
   "source": [
    "df = pd.read_csv('weight-height.csv')"
   ]
  },
  {
   "cell_type": "markdown",
   "metadata": {},
   "source": [
    "#### Assessing the dataset\n",
    "\n",
    "- Checking the first rows\n",
    "- Looking for missing values\n",
    "- Looking for duplicates\n",
    "- Shape of the dataset"
   ]
  },
  {
   "cell_type": "code",
   "execution_count": 75,
   "metadata": {},
   "outputs": [
    {
     "data": {
      "text/html": [
       "<div>\n",
       "<style scoped>\n",
       "    .dataframe tbody tr th:only-of-type {\n",
       "        vertical-align: middle;\n",
       "    }\n",
       "\n",
       "    .dataframe tbody tr th {\n",
       "        vertical-align: top;\n",
       "    }\n",
       "\n",
       "    .dataframe thead th {\n",
       "        text-align: right;\n",
       "    }\n",
       "</style>\n",
       "<table border=\"1\" class=\"dataframe\">\n",
       "  <thead>\n",
       "    <tr style=\"text-align: right;\">\n",
       "      <th></th>\n",
       "      <th>Gender</th>\n",
       "      <th>Height</th>\n",
       "      <th>Weight</th>\n",
       "    </tr>\n",
       "  </thead>\n",
       "  <tbody>\n",
       "    <tr>\n",
       "      <th>0</th>\n",
       "      <td>Male</td>\n",
       "      <td>73.847017</td>\n",
       "      <td>241.893563</td>\n",
       "    </tr>\n",
       "    <tr>\n",
       "      <th>1</th>\n",
       "      <td>Male</td>\n",
       "      <td>68.781904</td>\n",
       "      <td>162.310473</td>\n",
       "    </tr>\n",
       "    <tr>\n",
       "      <th>2</th>\n",
       "      <td>Male</td>\n",
       "      <td>74.110105</td>\n",
       "      <td>212.740856</td>\n",
       "    </tr>\n",
       "    <tr>\n",
       "      <th>3</th>\n",
       "      <td>Male</td>\n",
       "      <td>71.730978</td>\n",
       "      <td>220.042470</td>\n",
       "    </tr>\n",
       "    <tr>\n",
       "      <th>4</th>\n",
       "      <td>Male</td>\n",
       "      <td>69.881796</td>\n",
       "      <td>206.349801</td>\n",
       "    </tr>\n",
       "  </tbody>\n",
       "</table>\n",
       "</div>"
      ],
      "text/plain": [
       "  Gender     Height      Weight\n",
       "0   Male  73.847017  241.893563\n",
       "1   Male  68.781904  162.310473\n",
       "2   Male  74.110105  212.740856\n",
       "3   Male  71.730978  220.042470\n",
       "4   Male  69.881796  206.349801"
      ]
     },
     "execution_count": 75,
     "metadata": {},
     "output_type": "execute_result"
    }
   ],
   "source": [
    "df.head()"
   ]
  },
  {
   "cell_type": "markdown",
   "metadata": {},
   "source": [
    "I've done some research and based on the values that are presented in the variables Height and Weight, they're using inches and pounds, respectively, as the unit of measure."
   ]
  },
  {
   "cell_type": "code",
   "execution_count": 76,
   "metadata": {},
   "outputs": [
    {
     "data": {
      "text/plain": [
       "(10000, 3)"
      ]
     },
     "execution_count": 76,
     "metadata": {},
     "output_type": "execute_result"
    }
   ],
   "source": [
    "df.shape"
   ]
  },
  {
   "cell_type": "markdown",
   "metadata": {},
   "source": [
    "The dataset has 10000 rows and 3 columns."
   ]
  },
  {
   "cell_type": "code",
   "execution_count": 77,
   "metadata": {
    "scrolled": true
   },
   "outputs": [
    {
     "data": {
      "text/plain": [
       "Male      5000\n",
       "Female    5000\n",
       "Name: Gender, dtype: int64"
      ]
     },
     "execution_count": 77,
     "metadata": {},
     "output_type": "execute_result"
    }
   ],
   "source": [
    "df['Gender'].value_counts()"
   ]
  },
  {
   "cell_type": "markdown",
   "metadata": {},
   "source": [
    "- The Gender variable is balanced."
   ]
  },
  {
   "cell_type": "code",
   "execution_count": 78,
   "metadata": {},
   "outputs": [
    {
     "name": "stdout",
     "output_type": "stream",
     "text": [
      "<class 'pandas.core.frame.DataFrame'>\n",
      "RangeIndex: 10000 entries, 0 to 9999\n",
      "Data columns (total 3 columns):\n",
      "Gender    10000 non-null object\n",
      "Height    10000 non-null float64\n",
      "Weight    10000 non-null float64\n",
      "dtypes: float64(2), object(1)\n",
      "memory usage: 234.5+ KB\n"
     ]
    }
   ],
   "source": [
    "df.info()"
   ]
  },
  {
   "cell_type": "markdown",
   "metadata": {},
   "source": [
    "- There aren't missing values in our dataset\n",
    "- The types of the variables are correct."
   ]
  },
  {
   "cell_type": "code",
   "execution_count": 79,
   "metadata": {},
   "outputs": [
    {
     "data": {
      "text/plain": [
       "False"
      ]
     },
     "execution_count": 79,
     "metadata": {},
     "output_type": "execute_result"
    }
   ],
   "source": [
    "df.duplicated().any()"
   ]
  },
  {
   "cell_type": "markdown",
   "metadata": {},
   "source": [
    "- There aren't duplicated rows in the dataset."
   ]
  },
  {
   "cell_type": "code",
   "execution_count": 80,
   "metadata": {},
   "outputs": [
    {
     "data": {
      "text/plain": [
       "<seaborn.axisgrid.PairGrid at 0x7f8bdea36438>"
      ]
     },
     "execution_count": 80,
     "metadata": {},
     "output_type": "execute_result"
    },
    {
     "data": {
      "image/png": "[encoded data removed]",
      "text/plain": [
       "<Figure size 432.625x360 with 6 Axes>"
      ]
     },
     "metadata": {
      "needs_background": "light"
     },
     "output_type": "display_data"
    }
   ],
   "source": [
    "sns.pairplot(df, hue='Gender')"
   ]
  },
  {
   "cell_type": "markdown",
   "metadata": {},
   "source": [
    "Seaborn is great for exploratory data analysis because with few lines of code you can have meaningful plots that makes our life easier.\n",
    "\n",
    "- In this case for example, you can see that there is a linear relationship between the variables height and weight.\n",
    "\n",
    "- Another thing that you can see more clearly by looking at the density plot is that the gender is correlated with the variables height and weight. In the weight variable, for example, the mode is, approximately, 155 pounds for the women and 200 pounds for the men in our sample.\n",
    "\n",
    "So, the gender and the weight are variables that are suited for creating a linear regression model to predict the weight of a person."
   ]
  },
  {
   "cell_type": "markdown",
   "metadata": {},
   "source": [
    "### Data pre-processing"
   ]
  },
  {
   "cell_type": "markdown",
   "metadata": {},
   "source": [
    "- Transforming the dataset into two numpy arrays (X and y).\n",
    "- Splitting the dataset into training and test set\n",
    "- Transforming the variable Gender into a dummy / binary variable"
   ]
  },
  {
   "cell_type": "markdown",
   "metadata": {},
   "source": [
    "#### Creating the X and y arrays"
   ]
  },
  {
   "cell_type": "markdown",
   "metadata": {},
   "source": [
    "In machine learning, usually, is a good practice to name matrices as uppercase letters and vectors as lower case letters."
   ]
  },
  {
   "cell_type": "code",
   "execution_count": 81,
   "metadata": {},
   "outputs": [
    {
     "name": "stdout",
     "output_type": "stream",
     "text": [
      "Matrix X: \n",
      "[['Male' 73.847017017515]\n",
      " ['Male' 68.78190404589029]\n",
      " ['Male' 74.11010539178491]\n",
      " ...\n",
      " ['Female' 63.8679922137577]\n",
      " ['Female' 69.03424313073461]\n",
      " ['Female' 61.944245879517204]]\n",
      "Shape:\n",
      "(10000, 2)\n",
      "\n",
      "Vector y: \n",
      "[241.89356318 162.31047252 212.74085556 ... 128.47531878 163.85246135\n",
      " 113.64910268]\n",
      "Shape:\n",
      "(10000,)\n"
     ]
    }
   ],
   "source": [
    "# To create the array X, just drop the target variable (Weight).\n",
    "# and assign the returned values to a new array\n",
    "\n",
    "X = df.drop('Weight', axis=1).values\n",
    "\n",
    "# The method .values() is used to transform a pandas series\n",
    "# or DataFrame into a numpy array.\n",
    "y = df['Weight'].values\n",
    "\n",
    "print('Matrix X: ', X, 'Shape:', X.shape, sep='\\n')\n",
    "print()\n",
    "print('Vector y: ', y, 'Shape:', y.shape, sep='\\n')"
   ]
  },
  {
   "cell_type": "markdown",
   "metadata": {},
   "source": [
    "#### Why you should split your dataset into a training and a test set?\n",
    "\n",
    "Dataset splitting is very important because of the concept of generalization. The model is only useful if it performs well into data that this model haven't seen yet.\n",
    "\n",
    "To understand this, I want you to imagine that you're studing for an exam. In order to be able to get a good score, you have to learn how to solve the problems, not memorize the answers of the questions that you've used to learn. The same is applied to machine learning models, we must guarantee that our model is learning the correlations of our data, not memorizing it, because in this way, our model will perform well in unseen data.\n",
    "\n",
    "But, how do we get to see how our model will perform well in unseen data, if we don't have this data yet?\n",
    "\n",
    "The people who have been working with data for a long time, has created a solution for this.\n",
    "\n",
    "Basically, you split your dataset into a training and test set. Your model is trained in the training set, and you use the parameters that have been learnt by the model to predict the values of the target variable using the test set as parameter.\n",
    "\n",
    "After that, you evaluate your model by comparing the predicted values with the observed values.\n",
    "\n"
   ]
  },
  {
   "cell_type": "markdown",
   "metadata": {},
   "source": [
    "#### Splitting the dataset"
   ]
  },
  {
   "cell_type": "code",
   "execution_count": 82,
   "metadata": {},
   "outputs": [],
   "source": [
    "# The random state is a very important parameter because it creates \n",
    "# a seed, that if some other person is trying\n",
    "# to reproduce your model, if the value of the random_state\n",
    "# is the same, all else being equal, he'll get the same results as you.\n",
    "\n",
    "from sklearn.model_selection import train_test_split\n",
    "X_train, X_test, y_train, y_test = train_test_split(X, y, \n",
    "                                                    random_state=1, \n",
    "                                                    test_size=0.25)"
   ]
  },
  {
   "cell_type": "markdown",
   "metadata": {},
   "source": [
    "#### Categorical variables\n",
    "\n",
    "Before creating a ML model, you must transform your categorical variables into numbers.\n",
    "\n",
    "In the case of this dataset, we're dealing with a nominal categorical variable with two categories. So, we must transform the variable into a binary variable.\n",
    "\n",
    "1. Pandas:\n",
    "    - pd.get_dummies(drop_first=True)\n",
    "2. Numpy Arrays:\n",
    "    - LabelEncoder()\n",
    "    - LabelBinarizer()\n",
    "    \n",
    "One important thing to say about data pre-processing, is that you have to be careful about Data Leakage. Data Leakage is when you some information outside of the training set is used in the model that is being trained.\n",
    "\n",
    "The Sklearn Library minimize this because in most of the preprocessing methods, there is two methods: \n",
    "- fit_transform()\n",
    "- transform()\n",
    "\n",
    "The fit_transform is used to save the parameters of the X_train and, at the same time, it transforms the X_train in the desired format. The transform method uses the parameters that were saved by the fit_transform method and transforms the test set into the same format as the X_train.\n",
    "\n",
    "In order to understand this, imagine that you have some missing values in a categorical variable and you want to use the sklearn object Imputer to impute those values with the mode of the variable. Sklearn will check the most frequent value in this variable on the training set and will transform the training set. Then, when you use the transform method on the test set, he will take the mode of training set and will replace the missing values of the test set using this value, even if the mode of the test set is different from the training set.\n"
   ]
  },
  {
   "cell_type": "code",
   "execution_count": 83,
   "metadata": {},
   "outputs": [],
   "source": [
    "from sklearn.preprocessing import LabelEncoder\n",
    "label = LabelEncoder()\n",
    "X_train[:, 0] = label.fit_transform(X_train[:, 0])\n",
    "X_test[:, 0] = label.transform(X_test[:, 0])"
   ]
  },
  {
   "cell_type": "code",
   "execution_count": 84,
   "metadata": {},
   "outputs": [
    {
     "data": {
      "text/plain": [
       "array([1, 0, 0, ..., 1, 0, 1], dtype=object)"
      ]
     },
     "execution_count": 84,
     "metadata": {},
     "output_type": "execute_result"
    }
   ],
   "source": [
    "X_train[:, 0]"
   ]
  },
  {
   "cell_type": "markdown",
   "metadata": {},
   "source": [
    "#### Exercise One\n",
    "- Fit a linear regression model, make the predictions on the test set and calculate the root mean squared error."
   ]
  },
  {
   "cell_type": "code",
   "execution_count": 21,
   "metadata": {},
   "outputs": [],
   "source": [
    "# Type your code here\n"
   ]
  },
  {
   "cell_type": "code",
   "execution_count": 34,
   "metadata": {},
   "outputs": [],
   "source": [
    "# Run this cell to check your results\n",
    "questions.question_one()"
   ]
  },
  {
   "cell_type": "markdown",
   "metadata": {},
   "source": [
    "#### What is the weight of woman with 75 inches"
   ]
  },
  {
   "cell_type": "code",
   "execution_count": 57,
   "metadata": {},
   "outputs": [],
   "source": [
    "# Type your code here"
   ]
  },
  {
   "cell_type": "code",
   "execution_count": 69,
   "metadata": {},
   "outputs": [
    {
     "data": {
      "text/plain": [
       "202.44000000000005"
      ]
     },
     "execution_count": 69,
     "metadata": {},
     "output_type": "execute_result"
    }
   ],
   "source": [
    "# Run this cell to check your results\n",
    "questions.question_two()"
   ]
  },
  {
   "cell_type": "markdown",
   "metadata": {},
   "source": [
    "#### Using the default parameters, create a KNN model and evaluate it using RMSE.\n",
    "- The documentation for creating a KNeighborsRegressor can be found [here](https://scikit-learn.org/stable/modules/generated/sklearn.neighbors.KNeighborsRegressor.html)"
   ]
  },
  {
   "cell_type": "code",
   "execution_count": null,
   "metadata": {},
   "outputs": [],
   "source": [
    "# Type your code here"
   ]
  },
  {
   "cell_type": "markdown",
   "metadata": {},
   "source": [
    "#### What is the MSE for the model, using KNNs?"
   ]
  },
  {
   "cell_type": "code",
   "execution_count": 58,
   "metadata": {},
   "outputs": [],
   "source": [
    "# Run this code \n",
    "questions.question_three()"
   ]
  },
  {
   "cell_type": "markdown",
   "metadata": {},
   "source": [
    "As you may have seen in the documentation of KNeighborsRegressor, the default value for the number of neighbors is 5. What happens if you place the parameter n_neighbors=1 in the model?\n",
    "\n",
    "##### What is the performance of the model in the training set?\n",
    "\n",
    "       - Hint: Just replace the value of X_test for the value of X_train, to get the\n",
    "       predictions of the model on the training set."
   ]
  },
  {
   "cell_type": "code",
   "execution_count": 62,
   "metadata": {},
   "outputs": [],
   "source": [
    "# Type your code here"
   ]
  },
  {
   "cell_type": "code",
   "execution_count": 85,
   "metadata": {},
   "outputs": [
    {
     "name": "stdout",
     "output_type": "stream",
     "text": [
      "What is the RMSE of the KNN model on the test set, using\n",
      "n_neighbors=1 as parameter of the model?\n",
      "(two decimal places)\n",
      "Type your answer here!14.94\n",
      "Your answer is not correct, try again!!\n"
     ]
    }
   ],
   "source": [
    "# Run this code to check if your answer is correct\n",
    "questions.question_four()"
   ]
  },
  {
   "cell_type": "markdown",
   "metadata": {},
   "source": [
    "##### What is the performance of the model in the test set?\n"
   ]
  },
  {
   "cell_type": "code",
   "execution_count": null,
   "metadata": {},
   "outputs": [],
   "source": [
    "# Type your code here"
   ]
  },
  {
   "cell_type": "code",
   "execution_count": 4,
   "metadata": {},
   "outputs": [
    {
     "name": "stdout",
     "output_type": "stream",
     "text": [
      "\n",
      "        What is the RMSE of the KNN model on the test set, using n_neighbors\n",
      "        as parameter of the model?\n",
      "        (two decimal places)\n",
      "        \n",
      "Type your answer here!14.09\n",
      "Your answer is correct, congratulations!!\n"
     ]
    }
   ],
   "source": [
    "questions.question_five()"
   ]
  },
  {
   "cell_type": "markdown",
   "metadata": {},
   "source": [
    "#### Checking your overall results"
   ]
  },
  {
   "cell_type": "code",
   "execution_count": 5,
   "metadata": {},
   "outputs": [
    {
     "name": "stdout",
     "output_type": "stream",
     "text": [
      "Keep working! You have answered correctly 1 out of 5 questions!\n"
     ]
    }
   ],
   "source": [
    "# Run this cell\n",
    "questions.print_results()"
   ]
  }
 ],
 "metadata": {
  "kernelspec": {
   "display_name": "Python 3",
   "language": "python",
   "name": "python3"
  }
 },
 "nbformat": 4,
 "nbformat_minor": 2
}
